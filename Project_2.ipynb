{
  "nbformat": 4,
  "nbformat_minor": 0,
  "metadata": {
    "colab": {
      "provenance": []
    },
    "kernelspec": {
      "name": "python3",
      "display_name": "Python 3"
    },
    "language_info": {
      "name": "python"
    }
  },
  "cells": [
    {
      "cell_type": "code",
      "source": [
        "#MAJOR PROJECT 2\n",
        "#Applying K MEANS CLUSTERING on Dataset||Indian Earthquakes Dataset(2018 onwards)||Indian_earthquake_data(from kaggle)\n",
        "\n",
        "#Creating dataframe\n",
        "import pandas as pd\n",
        "df=pd.read_csv('/content/Indian_earthquake_data.csv')\n",
        "df"
      ],
      "metadata": {
        "colab": {
          "base_uri": "https://localhost:8080/",
          "height": 424
        },
        "id": "JHXR6fIqx_wH",
        "outputId": "7002ebff-9835-4dbd-d0ef-bb0d11059520"
      },
      "execution_count": null,
      "outputs": [
        {
          "output_type": "execute_result",
          "data": {
            "text/plain": [
              "                  Origin Time  Latitude  Longitude  Depth  Magnitude  \\\n",
              "0     2021-07-31 09:43:23 IST     29.06      77.42    5.0        2.5   \n",
              "1     2021-07-30 23:04:57 IST     19.93      72.92    5.0        2.4   \n",
              "2     2021-07-30 21:31:10 IST     31.50      74.37   33.0        3.4   \n",
              "3     2021-07-30 13:56:31 IST     28.34      76.23    5.0        3.1   \n",
              "4     2021-07-30 07:19:38 IST     27.09      89.97   10.0        2.1   \n",
              "...                       ...       ...        ...    ...        ...   \n",
              "2714  2019-08-04 06:56:19 IST     12.30      94.80   10.0        4.8   \n",
              "2715  2019-08-04 05:40:33 IST     24.70      94.30   40.0        4.1   \n",
              "2716  2019-08-03 16:29:37 IST     22.50      88.10   10.0        3.6   \n",
              "2717  2019-08-03 01:59:11 IST     24.60      94.20   54.0        3.5   \n",
              "2718  2019-08-01 06:13:21 IST     14.50      92.90   10.0        4.6   \n",
              "\n",
              "                                               Location  \n",
              "0                          53km NNE of New Delhi, India  \n",
              "1                  91km W of Nashik, Maharashtra, India  \n",
              "2                   49km WSW of Amritsar, Punjab, India  \n",
              "3                           50km SW of Jhajjar, Haryana  \n",
              "4                            53km SE of Thimphu, Bhutan  \n",
              "...                                                 ...  \n",
              "2714  224km ESE of Diglipur, Andaman and Nicobar isl...  \n",
              "2715                  31km SW of Ukhrul, Manipur, India  \n",
              "2716                         28km WSW of Kolkata, India  \n",
              "2717                  35km SE of Imphal, Manipur, India  \n",
              "2718  137km N of Diglipur, Andaman and Nicobar islan...  \n",
              "\n",
              "[2719 rows x 6 columns]"
            ],
            "text/html": [
              "\n",
              "  <div id=\"df-0ea71e9c-34f5-46d8-afcc-88694d44f71b\">\n",
              "    <div class=\"colab-df-container\">\n",
              "      <div>\n",
              "<style scoped>\n",
              "    .dataframe tbody tr th:only-of-type {\n",
              "        vertical-align: middle;\n",
              "    }\n",
              "\n",
              "    .dataframe tbody tr th {\n",
              "        vertical-align: top;\n",
              "    }\n",
              "\n",
              "    .dataframe thead th {\n",
              "        text-align: right;\n",
              "    }\n",
              "</style>\n",
              "<table border=\"1\" class=\"dataframe\">\n",
              "  <thead>\n",
              "    <tr style=\"text-align: right;\">\n",
              "      <th></th>\n",
              "      <th>Origin Time</th>\n",
              "      <th>Latitude</th>\n",
              "      <th>Longitude</th>\n",
              "      <th>Depth</th>\n",
              "      <th>Magnitude</th>\n",
              "      <th>Location</th>\n",
              "    </tr>\n",
              "  </thead>\n",
              "  <tbody>\n",
              "    <tr>\n",
              "      <th>0</th>\n",
              "      <td>2021-07-31 09:43:23 IST</td>\n",
              "      <td>29.06</td>\n",
              "      <td>77.42</td>\n",
              "      <td>5.0</td>\n",
              "      <td>2.5</td>\n",
              "      <td>53km NNE of New Delhi, India</td>\n",
              "    </tr>\n",
              "    <tr>\n",
              "      <th>1</th>\n",
              "      <td>2021-07-30 23:04:57 IST</td>\n",
              "      <td>19.93</td>\n",
              "      <td>72.92</td>\n",
              "      <td>5.0</td>\n",
              "      <td>2.4</td>\n",
              "      <td>91km W of Nashik, Maharashtra, India</td>\n",
              "    </tr>\n",
              "    <tr>\n",
              "      <th>2</th>\n",
              "      <td>2021-07-30 21:31:10 IST</td>\n",
              "      <td>31.50</td>\n",
              "      <td>74.37</td>\n",
              "      <td>33.0</td>\n",
              "      <td>3.4</td>\n",
              "      <td>49km WSW of Amritsar, Punjab, India</td>\n",
              "    </tr>\n",
              "    <tr>\n",
              "      <th>3</th>\n",
              "      <td>2021-07-30 13:56:31 IST</td>\n",
              "      <td>28.34</td>\n",
              "      <td>76.23</td>\n",
              "      <td>5.0</td>\n",
              "      <td>3.1</td>\n",
              "      <td>50km SW of Jhajjar, Haryana</td>\n",
              "    </tr>\n",
              "    <tr>\n",
              "      <th>4</th>\n",
              "      <td>2021-07-30 07:19:38 IST</td>\n",
              "      <td>27.09</td>\n",
              "      <td>89.97</td>\n",
              "      <td>10.0</td>\n",
              "      <td>2.1</td>\n",
              "      <td>53km SE of Thimphu, Bhutan</td>\n",
              "    </tr>\n",
              "    <tr>\n",
              "      <th>...</th>\n",
              "      <td>...</td>\n",
              "      <td>...</td>\n",
              "      <td>...</td>\n",
              "      <td>...</td>\n",
              "      <td>...</td>\n",
              "      <td>...</td>\n",
              "    </tr>\n",
              "    <tr>\n",
              "      <th>2714</th>\n",
              "      <td>2019-08-04 06:56:19 IST</td>\n",
              "      <td>12.30</td>\n",
              "      <td>94.80</td>\n",
              "      <td>10.0</td>\n",
              "      <td>4.8</td>\n",
              "      <td>224km ESE of Diglipur, Andaman and Nicobar isl...</td>\n",
              "    </tr>\n",
              "    <tr>\n",
              "      <th>2715</th>\n",
              "      <td>2019-08-04 05:40:33 IST</td>\n",
              "      <td>24.70</td>\n",
              "      <td>94.30</td>\n",
              "      <td>40.0</td>\n",
              "      <td>4.1</td>\n",
              "      <td>31km SW of Ukhrul, Manipur, India</td>\n",
              "    </tr>\n",
              "    <tr>\n",
              "      <th>2716</th>\n",
              "      <td>2019-08-03 16:29:37 IST</td>\n",
              "      <td>22.50</td>\n",
              "      <td>88.10</td>\n",
              "      <td>10.0</td>\n",
              "      <td>3.6</td>\n",
              "      <td>28km WSW of Kolkata, India</td>\n",
              "    </tr>\n",
              "    <tr>\n",
              "      <th>2717</th>\n",
              "      <td>2019-08-03 01:59:11 IST</td>\n",
              "      <td>24.60</td>\n",
              "      <td>94.20</td>\n",
              "      <td>54.0</td>\n",
              "      <td>3.5</td>\n",
              "      <td>35km SE of Imphal, Manipur, India</td>\n",
              "    </tr>\n",
              "    <tr>\n",
              "      <th>2718</th>\n",
              "      <td>2019-08-01 06:13:21 IST</td>\n",
              "      <td>14.50</td>\n",
              "      <td>92.90</td>\n",
              "      <td>10.0</td>\n",
              "      <td>4.6</td>\n",
              "      <td>137km N of Diglipur, Andaman and Nicobar islan...</td>\n",
              "    </tr>\n",
              "  </tbody>\n",
              "</table>\n",
              "<p>2719 rows × 6 columns</p>\n",
              "</div>\n",
              "      <button class=\"colab-df-convert\" onclick=\"convertToInteractive('df-0ea71e9c-34f5-46d8-afcc-88694d44f71b')\"\n",
              "              title=\"Convert this dataframe to an interactive table.\"\n",
              "              style=\"display:none;\">\n",
              "        \n",
              "  <svg xmlns=\"http://www.w3.org/2000/svg\" height=\"24px\"viewBox=\"0 0 24 24\"\n",
              "       width=\"24px\">\n",
              "    <path d=\"M0 0h24v24H0V0z\" fill=\"none\"/>\n",
              "    <path d=\"M18.56 5.44l.94 2.06.94-2.06 2.06-.94-2.06-.94-.94-2.06-.94 2.06-2.06.94zm-11 1L8.5 8.5l.94-2.06 2.06-.94-2.06-.94L8.5 2.5l-.94 2.06-2.06.94zm10 10l.94 2.06.94-2.06 2.06-.94-2.06-.94-.94-2.06-.94 2.06-2.06.94z\"/><path d=\"M17.41 7.96l-1.37-1.37c-.4-.4-.92-.59-1.43-.59-.52 0-1.04.2-1.43.59L10.3 9.45l-7.72 7.72c-.78.78-.78 2.05 0 2.83L4 21.41c.39.39.9.59 1.41.59.51 0 1.02-.2 1.41-.59l7.78-7.78 2.81-2.81c.8-.78.8-2.07 0-2.86zM5.41 20L4 18.59l7.72-7.72 1.47 1.35L5.41 20z\"/>\n",
              "  </svg>\n",
              "      </button>\n",
              "      \n",
              "  <style>\n",
              "    .colab-df-container {\n",
              "      display:flex;\n",
              "      flex-wrap:wrap;\n",
              "      gap: 12px;\n",
              "    }\n",
              "\n",
              "    .colab-df-convert {\n",
              "      background-color: #E8F0FE;\n",
              "      border: none;\n",
              "      border-radius: 50%;\n",
              "      cursor: pointer;\n",
              "      display: none;\n",
              "      fill: #1967D2;\n",
              "      height: 32px;\n",
              "      padding: 0 0 0 0;\n",
              "      width: 32px;\n",
              "    }\n",
              "\n",
              "    .colab-df-convert:hover {\n",
              "      background-color: #E2EBFA;\n",
              "      box-shadow: 0px 1px 2px rgba(60, 64, 67, 0.3), 0px 1px 3px 1px rgba(60, 64, 67, 0.15);\n",
              "      fill: #174EA6;\n",
              "    }\n",
              "\n",
              "    [theme=dark] .colab-df-convert {\n",
              "      background-color: #3B4455;\n",
              "      fill: #D2E3FC;\n",
              "    }\n",
              "\n",
              "    [theme=dark] .colab-df-convert:hover {\n",
              "      background-color: #434B5C;\n",
              "      box-shadow: 0px 1px 3px 1px rgba(0, 0, 0, 0.15);\n",
              "      filter: drop-shadow(0px 1px 2px rgba(0, 0, 0, 0.3));\n",
              "      fill: #FFFFFF;\n",
              "    }\n",
              "  </style>\n",
              "\n",
              "      <script>\n",
              "        const buttonEl =\n",
              "          document.querySelector('#df-0ea71e9c-34f5-46d8-afcc-88694d44f71b button.colab-df-convert');\n",
              "        buttonEl.style.display =\n",
              "          google.colab.kernel.accessAllowed ? 'block' : 'none';\n",
              "\n",
              "        async function convertToInteractive(key) {\n",
              "          const element = document.querySelector('#df-0ea71e9c-34f5-46d8-afcc-88694d44f71b');\n",
              "          const dataTable =\n",
              "            await google.colab.kernel.invokeFunction('convertToInteractive',\n",
              "                                                     [key], {});\n",
              "          if (!dataTable) return;\n",
              "\n",
              "          const docLinkHtml = 'Like what you see? Visit the ' +\n",
              "            '<a target=\"_blank\" href=https://colab.research.google.com/notebooks/data_table.ipynb>data table notebook</a>'\n",
              "            + ' to learn more about interactive tables.';\n",
              "          element.innerHTML = '';\n",
              "          dataTable['output_type'] = 'display_data';\n",
              "          await google.colab.output.renderOutput(dataTable, element);\n",
              "          const docLink = document.createElement('div');\n",
              "          docLink.innerHTML = docLinkHtml;\n",
              "          element.appendChild(docLink);\n",
              "        }\n",
              "      </script>\n",
              "    </div>\n",
              "  </div>\n",
              "  "
            ]
          },
          "metadata": {},
          "execution_count": 98
        }
      ]
    },
    {
      "cell_type": "code",
      "source": [
        "#there are no empty(null) spaces in data\n",
        "df.info()"
      ],
      "metadata": {
        "colab": {
          "base_uri": "https://localhost:8080/"
        },
        "id": "HU9Xiv2sdtLn",
        "outputId": "fb06e25d-0b60-4393-ea09-6ea2234823ca"
      },
      "execution_count": null,
      "outputs": [
        {
          "output_type": "stream",
          "name": "stdout",
          "text": [
            "<class 'pandas.core.frame.DataFrame'>\n",
            "RangeIndex: 2719 entries, 0 to 2718\n",
            "Data columns (total 6 columns):\n",
            " #   Column       Non-Null Count  Dtype  \n",
            "---  ------       --------------  -----  \n",
            " 0   Origin Time  2719 non-null   object \n",
            " 1   Latitude     2719 non-null   float64\n",
            " 2   Longitude    2719 non-null   float64\n",
            " 3   Depth        2719 non-null   float64\n",
            " 4   Magnitude    2719 non-null   float64\n",
            " 5   Location     2719 non-null   object \n",
            "dtypes: float64(4), object(2)\n",
            "memory usage: 127.6+ KB\n"
          ]
        }
      ]
    },
    {
      "cell_type": "code",
      "source": [
        "#Data Visualization on points where earthquakes occured\n",
        "import matplotlib.pyplot as plt\n",
        "plt.scatter(df['Longitude'],df['Latitude'])#representing as shown in map "
      ],
      "metadata": {
        "colab": {
          "base_uri": "https://localhost:8080/",
          "height": 282
        },
        "id": "4-k3bLbczQGP",
        "outputId": "4cdbabf1-0699-41a5-bb90-e25d021b37f1"
      },
      "execution_count": null,
      "outputs": [
        {
          "output_type": "execute_result",
          "data": {
            "text/plain": [
              "<matplotlib.collections.PathCollection at 0x7fbebd282650>"
            ]
          },
          "metadata": {},
          "execution_count": 100
        },
        {
          "output_type": "display_data",
          "data": {
            "text/plain": [
              "<Figure size 432x288 with 1 Axes>"
            ],
            "image/png": "[encoded data removed]"
          },
          "metadata": {
            "needs_background": "light"
          }
        }
      ]
    },
    {
      "cell_type": "code",
      "source": [
        "#Dividing data into input and output\n",
        "#creating input(Longitude,Latitude)\n",
        "x=df.iloc[:,[2,1]].values\n",
        "x"
      ],
      "metadata": {
        "colab": {
          "base_uri": "https://localhost:8080/"
        },
        "id": "vKP4CVk6zNVH",
        "outputId": "bd66f13c-934c-4e2b-b4d2-989d22ce1a5b"
      },
      "execution_count": null,
      "outputs": [
        {
          "output_type": "execute_result",
          "data": {
            "text/plain": [
              "array([[77.42, 29.06],\n",
              "       [72.92, 19.93],\n",
              "       [74.37, 31.5 ],\n",
              "       ...,\n",
              "       [88.1 , 22.5 ],\n",
              "       [94.2 , 24.6 ],\n",
              "       [92.9 , 14.5 ]])"
            ]
          },
          "metadata": {},
          "execution_count": 101
        }
      ]
    },
    {
      "cell_type": "code",
      "source": [
        "#2719 rows(points), 6 columns\n",
        "df.shape"
      ],
      "metadata": {
        "colab": {
          "base_uri": "https://localhost:8080/"
        },
        "id": "u3CYmidLeHpZ",
        "outputId": "9b463346-0d96-495f-b469-2f92a406e392"
      },
      "execution_count": null,
      "outputs": [
        {
          "output_type": "execute_result",
          "data": {
            "text/plain": [
              "(2719, 6)"
            ]
          },
          "metadata": {},
          "execution_count": 102
        }
      ]
    },
    {
      "cell_type": "code",
      "source": [
        "#finding sqaure root of 2719\n",
        "import numpy as np\n",
        "np.sqrt(2719)"
      ],
      "metadata": {
        "colab": {
          "base_uri": "https://localhost:8080/"
        },
        "id": "8mzqc7uuzg18",
        "outputId": "202d25a8-5c54-4d0f-e39a-4dad25d936e5"
      },
      "execution_count": null,
      "outputs": [
        {
          "output_type": "execute_result",
          "data": {
            "text/plain": [
              "52.14403129793476"
            ]
          },
          "metadata": {},
          "execution_count": 103
        }
      ]
    },
    {
      "cell_type": "code",
      "source": [
        "#no of clusters should be in the range of 2 to 53\n",
        "\n",
        "from sklearn.cluster import KMeans\n",
        "k=range(2,53)\n",
        "s=[]\n",
        "for i in k :\n",
        "  model_demo=KMeans(n_clusters=i,random_state=0)\n",
        "  model_demo.fit(x)\n",
        "  s.append(model_demo.inertia_)\n",
        "plt.scatter(k,s)\n",
        "plt.plot(k,s)\n",
        "#from ELBOW METHOD we can say that prominent point can be in range (2,10)"
      ],
      "metadata": {
        "colab": {
          "base_uri": "https://localhost:8080/",
          "height": 282
        },
        "id": "js4F04q5zpzM",
        "outputId": "c9f3ce71-3b4e-40b2-eb3d-9e41a4c4d456"
      },
      "execution_count": null,
      "outputs": [
        {
          "output_type": "execute_result",
          "data": {
            "text/plain": [
              "[<matplotlib.lines.Line2D at 0x7fbebd211a50>]"
            ]
          },
          "metadata": {},
          "execution_count": 104
        },
        {
          "output_type": "display_data",
          "data": {
            "text/plain": [
              "<Figure size 432x288 with 1 Axes>"
            ],
            "image/png": "[encoded data removed]"
          },
          "metadata": {
            "needs_background": "light"
          }
        }
      ]
    },
    {
      "cell_type": "code",
      "source": [
        "#Applying SILHOUETTE SCORE METHOD to find prominent point in range (2,10)\n",
        "from sklearn.metrics import silhouette_score\n",
        "k = range(2,10)\n",
        "for i in k:\n",
        "  model_demo = KMeans(n_clusters = i,random_state = 0)\n",
        "  model_demo.fit(x)\n",
        "  y_pred = model_demo.predict(x)\n",
        "  print(f\"{i} Clusters ,Score = {silhouette_score(x,y_pred)}\")\n",
        "  plt.bar(i,silhouette_score(x,y_pred))\n",
        "#from SILHOUETTE SCORE METHOD we conclude 2 clusters would be appropriate"
      ],
      "metadata": {
        "colab": {
          "base_uri": "https://localhost:8080/",
          "height": 404
        },
        "id": "VDOHTYtEz9fq",
        "outputId": "4164c232-fe60-4f23-945d-bbc058c6ef87"
      },
      "execution_count": null,
      "outputs": [
        {
          "output_type": "stream",
          "name": "stdout",
          "text": [
            "2 Clusters ,Score = 0.6539436830056814\n",
            "3 Clusters ,Score = 0.5909525390590425\n",
            "4 Clusters ,Score = 0.6147081891189834\n",
            "5 Clusters ,Score = 0.6027082160971342\n",
            "6 Clusters ,Score = 0.5437930418817251\n",
            "7 Clusters ,Score = 0.5509742903479136\n",
            "8 Clusters ,Score = 0.56612125756764\n",
            "9 Clusters ,Score = 0.5271225395705129\n"
          ]
        },
        {
          "output_type": "display_data",
          "data": {
            "text/plain": [
              "<Figure size 432x288 with 1 Axes>"
            ],
            "image/png": "[encoded data removed]"
          },
          "metadata": {
            "needs_background": "light"
          }
        }
      ]
    },
    {
      "cell_type": "code",
      "source": [
        "#Applying Clusterer\n",
        "#no of clusters=2\n",
        "from sklearn.cluster import KMeans\n",
        "\n",
        "model = KMeans(n_clusters = 2,random_state = 0)\n",
        "model.fit(x)"
      ],
      "metadata": {
        "colab": {
          "base_uri": "https://localhost:8080/"
        },
        "id": "bijB9LJ40NTa",
        "outputId": "4e197e98-5fec-47cc-938a-d22e1faf6be9"
      },
      "execution_count": null,
      "outputs": [
        {
          "output_type": "execute_result",
          "data": {
            "text/plain": [
              "KMeans(n_clusters=2, random_state=0)"
            ]
          },
          "metadata": {},
          "execution_count": 106
        }
      ]
    },
    {
      "cell_type": "code",
      "source": [
        "y = model.predict(x)\n",
        "# predicting which point is in which cluster\n",
        "y"
      ],
      "metadata": {
        "colab": {
          "base_uri": "https://localhost:8080/"
        },
        "id": "7c9kwcGk0jIF",
        "outputId": "04d5f818-9917-4cdf-fa44-6e60ab558e58"
      },
      "execution_count": null,
      "outputs": [
        {
          "output_type": "execute_result",
          "data": {
            "text/plain": [
              "array([0, 0, 0, ..., 1, 1, 1], dtype=int32)"
            ]
          },
          "metadata": {},
          "execution_count": 107
        }
      ]
    },
    {
      "cell_type": "code",
      "source": [
        "##FINAL VISUALISATION of earthquake points after clustering with their respective centroids\n",
        "plt.figure(figsize = (7,5))\n",
        "for i in range(2):\n",
        "  plt.scatter(x[y == i,0],x[y == i,1],label = f'Cluster {i}')\n",
        "plt.scatter(model.cluster_centers_[:,0],model.cluster_centers_[:,1],s = 100,c = 'yellow',\n",
        "            label = 'Centroids')\n",
        "plt.legend()"
      ],
      "metadata": {
        "colab": {
          "base_uri": "https://localhost:8080/",
          "height": 337
        },
        "id": "KseZSEQP0lAz",
        "outputId": "539409a2-5a41-48e2-ceed-e645fc1dc035"
      },
      "execution_count": null,
      "outputs": [
        {
          "output_type": "execute_result",
          "data": {
            "text/plain": [
              "<matplotlib.legend.Legend at 0x7fbebd161ed0>"
            ]
          },
          "metadata": {},
          "execution_count": 108
        },
        {
          "output_type": "display_data",
          "data": {
            "text/plain": [
              "<Figure size 504x360 with 1 Axes>"
            ],
            "image/png": "[encoded data removed]"
          },
          "metadata": {
            "needs_background": "light"
          }
        }
      ]
    },
    {
      "cell_type": "code",
      "source": [],
      "metadata": {
        "id": "KxXiO6N80roq"
      },
      "execution_count": null,
      "outputs": []
    }
  ]
}
